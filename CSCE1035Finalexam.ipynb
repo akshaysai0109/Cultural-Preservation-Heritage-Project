{
  "nbformat": 4,
  "nbformat_minor": 0,
  "metadata": {
    "colab": {
      "provenance": [],
      "authorship_tag": "ABX9TyPhWbwFIdE7LNzbPzcAX4mB",
      "include_colab_link": true
    },
    "kernelspec": {
      "name": "python3",
      "display_name": "Python 3"
    },
    "language_info": {
      "name": "python"
    }
  },
  "cells": [
    {
      "cell_type": "markdown",
      "metadata": {
        "id": "view-in-github",
        "colab_type": "text"
      },
      "source": [
        "<a href=\"https://colab.research.google.com/github/akshaysai0109/Cultural-Preservation-Heritage-Project/blob/main/CSCE1035Finalexam.ipynb\" target=\"_parent\"><img src=\"https://colab.research.google.com/assets/colab-badge.svg\" alt=\"Open In Colab\"/></a>"
      ]
    },
    {
      "cell_type": "code",
      "execution_count": null,
      "metadata": {
        "id": "ZMeB3jRKaNgp"
      },
      "outputs": [],
      "source": [
        "#Question-1\n",
        "# Prompting the user to enter a number\n",
        "number = float(input(\"Enter a number: \"))\n",
        "\n",
        "# Checking whether the number is positive, negative, or zero\n",
        "if number > 0:\n",
        "    print(\"The number entered is positive.\")\n",
        "elif number < 0:\n",
        "    print(\"The number entered is negative.\")\n",
        "else:\n",
        "    print(\"The number entered is zero.\")\n",
        "\n"
      ]
    },
    {
      "cell_type": "code",
      "source": [
        "#Question-2\n",
        "# Prompting the user to enter two numbers\n",
        "num1 = float(input(\"Enter the first number: \"))\n",
        "num2 = float(input(\"Enter the second number: \"))\n",
        "\n",
        "# Checking which number is greater\n",
        "if num1 > num2:\n",
        "    print(\"The first number entered is greater than the second number.\")\n",
        "elif num1 < num2:\n",
        "    print(\"The second number entered is greater than the first number.\")\n",
        "else:\n",
        "    print(\"Both numbers are equal.\")\n"
      ],
      "metadata": {
        "id": "glMMgrnIbhPw"
      },
      "execution_count": null,
      "outputs": []
    },
    {
      "cell_type": "code",
      "source": [
        "#Question-3\n",
        "# Initializing a variable for user input\n",
        "user_input = 0\n",
        "\n",
        "# Loop to prompt the user until a valid number is entered\n",
        "while True:\n",
        "    user_input = int(input(\"Enter a number between 1 and 10: \"))\n",
        "    if 1 <= user_input <= 10:\n",
        "        break  # Exit the loop if a valid number is entered\n",
        "\n",
        "# Once a valid number is entered, print the input\n",
        "print(\"You entered:\", user_input)\n"
      ],
      "metadata": {
        "id": "B6bXT7GhcZ0Q"
      },
      "execution_count": null,
      "outputs": []
    },
    {
      "cell_type": "code",
      "source": [
        "#Question-4\n",
        "def calculate_sum(a, b):\n",
        "    return a + b\n",
        "\n",
        "# Example usage:\n",
        "num1 = 6\n",
        "num2 = 8\n",
        "result = calculate_sum(num1, num2)\n",
        "print(f\"The sum of {num1} and {num2} is: {result}\")\n"
      ],
      "metadata": {
        "id": "6sN7wk6acf25"
      },
      "execution_count": null,
      "outputs": []
    },
    {
      "cell_type": "code",
      "source": [
        "#Question-5\n",
        "def calculate_triangle_area(base, height):\n",
        "    area = 0.5 * base * height\n",
        "    return area\n",
        "\n",
        "# Example usage:\n",
        "base_length = 8\n",
        "height_length = 12\n",
        "triangle_area = calculate_triangle_area(base_length, height_length)\n",
        "print(f\"The area of the triangle with base {base_length} and height {height_length} is: {triangle_area}\")\n"
      ],
      "metadata": {
        "id": "yi38uNJxc5Zz"
      },
      "execution_count": null,
      "outputs": []
    },
    {
      "cell_type": "code",
      "source": [
        "#Question-7\n",
        "class Person:\n",
        "    def __init__(self, name, age):\n",
        "        self.name = name\n",
        "        self.age = age\n",
        "\n",
        "    def describe(self):\n",
        "        print(f\"{self.name} is {self.age} years old.\")\n",
        "\n",
        "# Creating an instance of the Person class and describing the person\n",
        "person1 = Person(\"Akshay\", 20)\n",
        "person1.describe()\n"
      ],
      "metadata": {
        "id": "YLK2Dp8Hc7DC"
      },
      "execution_count": null,
      "outputs": []
    },
    {
      "cell_type": "code",
      "source": [
        "#Question-8\n",
        "class Book:\n",
        "    def __init__(self, title, author, isbn):\n",
        "        self.title = title\n",
        "        self.author = author\n",
        "        self.isbn = isbn\n",
        "\n",
        "    def __str__(self):\n",
        "        return f\"Title: {self.title}\\nAuthor: {self.author}\\nISBN: {self.isbn}\"\n",
        "\n",
        "# Creating an instance of the Book class and printing its information\n",
        "book1 = Book(\"Python Programming\", \"John Smith\", \"978-0-13-444432-1\")\n",
        "print(book1)\n"
      ],
      "metadata": {
        "id": "fjVS1u_PdBwj"
      },
      "execution_count": null,
      "outputs": []
    },
    {
      "cell_type": "code",
      "source": [
        "#Question-9\n",
        "import math\n",
        "\n",
        "class Circle:\n",
        "    def __init__(self, radius):\n",
        "        self.radius = radius\n",
        "\n",
        "    def calculate_area(self):\n",
        "        return math.pi * self.radius ** 2\n",
        "\n",
        "    def calculate_circumference(self):\n",
        "        return 2 * math.pi * self.radius\n",
        "\n",
        "# Creating an instance of the Circle class and calculating area and circumference\n",
        "circle1 = Circle(5)\n",
        "area = circle1.calculate_area()\n",
        "circumference = circle1.calculate_circumference()\n",
        "\n",
        "print(f\"The area of the circle is: {area}\")\n",
        "print(f\"The circumference of the circle is: {circumference}\")\n"
      ],
      "metadata": {
        "id": "AXFvCIWJdHRj"
      },
      "execution_count": null,
      "outputs": []
    },
    {
      "cell_type": "code",
      "source": [
        "#Question-10\n",
        "class BankAccount:\n",
        "    def __init__(self, account_number, owner_name, balance=0):\n",
        "        self.account_number = account_number\n",
        "        self.owner_name = owner_name\n",
        "        self.balance = balance\n",
        "\n",
        "    def deposit(self, amount):\n",
        "        if amount > 0:\n",
        "            self.balance += amount\n",
        "            print(f\"Deposit of ${amount} successful.\")\n",
        "        else:\n",
        "            print(\"Please enter a positive amount for deposit.\")\n",
        "\n",
        "    def withdraw(self, amount):\n",
        "        if amount > 0:\n",
        "            if self.balance >= amount:\n",
        "                self.balance -= amount\n",
        "                print(f\"Withdrawal of ${amount} successful.\")\n",
        "            else:\n",
        "                print(\"Insufficient funds for withdrawal.\")\n",
        "        else:\n",
        "            print(\"Please enter a positive amount for withdrawal.\")\n",
        "\n",
        "    def transfer(self, amount, target_account):\n",
        "        if amount > 0:\n",
        "            if self.balance >= amount:\n",
        "                self.balance -= amount\n",
        "                target_account.deposit(amount)\n",
        "                print(f\"Transfer of ${amount} successful.\")\n",
        "            else:\n",
        "                print(\"Insufficient funds for transfer.\")\n",
        "        else:\n",
        "            print(\"Please enter a positive amount for transfer.\")\n",
        "\n",
        "    def __str__(self):\n",
        "        return f\"Account Owner: {self.owner_name}\\nAccount Number: {self.account_number}\\nBalance: ${self.balance}\"\n",
        "\n",
        "# Example usage:\n",
        "account1 = BankAccount(\"123456\", \"Alice\", 1000)\n",
        "account2 = BankAccount(\"654321\", \"Bob\", 500)\n",
        "\n",
        "print(\"Account Details:\")\n",
        "print(account1)\n",
        "print(account2)\n",
        "\n",
        "account1.deposit(200)\n",
        "account1.withdraw(300)\n",
        "account1.transfer(400, account2)\n",
        "\n",
        "print(\"\\nUpdated Account Details:\")\n",
        "print(account1)\n",
        "print(account2)\n"
      ],
      "metadata": {
        "id": "Nr3i9HqIdQsa"
      },
      "execution_count": null,
      "outputs": []
    },
    {
      "cell_type": "code",
      "source": [
        "#Question-6\n",
        "def find_largest_element(lst):\n",
        "    if not lst:\n",
        "        return None  # Return None for an empty list\n",
        "\n",
        "    largest = lst[0]  # Assume the first element is the largest\n",
        "\n",
        "    for element in lst:\n",
        "        if element > largest:\n",
        "            largest = element  # Update the largest element if found\n",
        "\n",
        "    return largest\n",
        "\n",
        "# Example list\n",
        "my_list = [3, 7, 2, 9, 5, 8, 4]\n",
        "\n",
        "# Finding the largest element in the list\n",
        "largest_element = find_largest_element(my_list)\n",
        "print(f\"The largest element in the list is: {largest_element}\")\n"
      ],
      "metadata": {
        "id": "I0u8udxLdndh"
      },
      "execution_count": null,
      "outputs": []
    }
  ]
}